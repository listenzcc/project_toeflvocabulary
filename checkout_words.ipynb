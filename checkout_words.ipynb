{
 "cells": [
  {
   "cell_type": "code",
   "execution_count": 1,
   "metadata": {},
   "outputs": [],
   "source": [
    "import time\n",
    "import pycurl\n",
    "import random\n",
    "from io import BytesIO\n",
    "from bs4 import BeautifulSoup\n",
    "import webbrowser"
   ]
  },
  {
   "cell_type": "code",
   "execution_count": 2,
   "metadata": {},
   "outputs": [],
   "source": [
    "# check detail: http://pycurl.io/docs/latest/quickstart.html#retrieving-a-network-resource\n",
    "def fetch_url(url):\n",
    "    buffer = BytesIO()\n",
    "    c = pycurl.Curl()\n",
    "    c.setopt(pycurl.USERAGENT, 'Mozilla/5.0 (Windows; U; Windows NT 6.1; it; rv:1.9.2.3) Gecko/20100401 Firefox/3.6.3 (.NET CLR 3.5.30729)')\n",
    "    c.setopt(c.URL, url)\n",
    "    c.setopt(c.WRITEDATA, buffer)\n",
    "    c.perform()\n",
    "    c.close()\n",
    "    return buffer.getvalue()"
   ]
  },
  {
   "cell_type": "code",
   "execution_count": 3,
   "metadata": {},
   "outputs": [],
   "source": [
    "def get_words(fname, name='div', attrs={'class': 'glface'}):\n",
    "    with open(fname, 'r') as f:\n",
    "        html = f.readlines()\n",
    "        soup = BeautifulSoup(''.join(html))\n",
    "        entries = soup.find_all(name, attrs=attrs)\n",
    "        return [e.get_text() for e in entries]"
   ]
  },
  {
   "cell_type": "code",
   "execution_count": 4,
   "metadata": {},
   "outputs": [
    {
     "name": "stdout",
     "output_type": "stream",
     "text": [
      "raw_htmls/v1.html\n",
      "raw_htmls/v2.html\n",
      "raw_htmls/v3.html\n",
      "raw_htmls/v4.html\n",
      "raw_htmls/v5.html\n",
      "raw_htmls/v6.html\n",
      "raw_htmls/v7.html\n",
      "raw_htmls/v8.html\n",
      "raw_htmls/v9.html\n",
      "raw_htmls/v10.html\n"
     ]
    }
   ],
   "source": [
    "all_words = []\n",
    "\n",
    "for j in range(10):\n",
    "    fname = 'raw_htmls/v{}.html'.format(j+1)\n",
    "    print(fname)\n",
    "    all_words += get_words(fname)\n"
   ]
  },
  {
   "cell_type": "code",
   "execution_count": 5,
   "metadata": {},
   "outputs": [
    {
     "data": {
      "text/plain": [
       "4845"
      ]
     },
     "execution_count": 5,
     "metadata": {},
     "output_type": "execute_result"
    }
   ],
   "source": [
    "len(all_words)"
   ]
  },
  {
   "cell_type": "code",
   "execution_count": 70,
   "metadata": {},
   "outputs": [],
   "source": [
    "def checkout_word(word):\n",
    "    output = []\n",
    "    print('{}'.format(word))\n",
    "    url = 'https://www.collinsdictionary.com/dictionary/english/{}'.format(word)\n",
    "    html = fetch_url(url)\n",
    "    soup = BeautifulSoup(html)\n",
    "    [s.extract() for s in soup('script')]\n",
    "\n",
    "    def shrink(string):\n",
    "        while '\\n\\n' in string:\n",
    "            string = string.replace('\\n\\n', '\\n')\n",
    "        string = string.replace('\\n)', ')').replace(')', ')\\n').replace('Read more…', '').replace('Show more...','')\n",
    "        return string.strip()\n",
    "\n",
    "    explain = soup.find('div', 'dictionary Cob_Adv_Brit')\n",
    "    assets = soup.find('div', 'assets')\n",
    "\n",
    "    def goodtag(tag):\n",
    "        if hasattr(tag, 'attrs'):\n",
    "            return any([tag.attrs == {'class': ['hom']},\n",
    "                        tag.attrs == {'class': ['mini_h2']}])\n",
    "        return False\n",
    "\n",
    "    for tag in explain.recursiveChildGenerator():\n",
    "        if goodtag(tag):\n",
    "            output.append(shrink(tag.get_text()))\n",
    "\n",
    "    output.append(shrink(assets.get_text()))\n",
    "    \n",
    "    return output\n"
   ]
  },
  {
   "cell_type": "code",
   "execution_count": 76,
   "metadata": {},
   "outputs": [
    {
     "name": "stdout",
     "output_type": "stream",
     "text": [
      "descend\n",
      "(dɪsend)\n",
      "--\n",
      "1. verb\n",
      "If you descend or if you descend a staircase, you move downwards from a higher to a lower level.\n",
      " [formal] Things are cooler and more damp as we descend to the cellar. [VERB preposition]\n",
      " She descended one flight of stairs. [VERB noun] [Also VERB]Synonyms: go down, come down, walk down, move down   More Synonyms of descend\n",
      "--\n",
      "2. verb\n",
      "When a mood or atmosphere descends on a place or on the people there, it affects them by spreading among them.\n",
      " [literary] An uneasy calm descended on the area. [V + on/upon/over]\n",
      " A reverent hush descended on the multitude. [Von/upon/over n] [Also VERB]Synonyms: fall   More Synonyms of descend\n",
      "--\n",
      "3. verb\n",
      "If a large group of people arrive to see you, especially if their visit is unexpected or causes you a lot of work, you can say that they have descended on you.\n",
      " 3,000 city officials descended on Capitol Hill to lobby for more money. [VERB + on/upon]\n",
      " Curious tourists and reporters from around the globe are descending upon the peaceful\n",
      "villages. [Von/upon n]\n",
      "--\n",
      "4. verb\n",
      "When night, dusk, or darkness descends, it starts to get dark.\n",
      " [literary] Darkness has now descended and the moon and stars shine hazily in the clear sky. [VERB]\n",
      "--\n",
      "5. verb\n",
      "If you say that someone descends to behaviour which you consider unacceptable, you are expressing your disapproval of the fact that they do it.\n",
      " [disapproval] We're not going to descend to such methods. [VERB + to]\n",
      " She's got too much dignity to descend to writing anonymous letters. [Vto n/-ing]\n",
      "--\n",
      "6. verb\n",
      "When you want to emphasize that the situation that someone is entering is very bad, you can say that they are descending into that situation.\n",
      " [emphasis] He was ultimately overthrown and the country descended into chaos. [VERB + into]\n",
      "--\n",
      "Example sentences including\n",
      "descend\n",
      "These examples have been automatically selected and may contain sensitive content.\n",
      "\n",
      "After each airstrike, people descend on rubble searching for wood.  Times, Sunday Times (2016)\n",
      "These people just descended into this kind of class envy mania.  Times, Sunday Times (2015)\n",
      "And many of us will be descended from people who fought there.  The Sun (2015)\n",
      "Now you may descend the spiral staircase to find a golf simulator instead.  Times, Sunday Times (2010)\n",
      "Is there a correct side on which to climb or descend a staircase?  Times, Sunday Times (2007)\n",
      " People would descend on the house.  Times, Sunday Times (2010)\n",
      "About 3,000 people descended upon the venue for the official party.  Times, Sunday Times (2012)\n",
      "As you near the final square, you descend through a staircase and pass down through a stone tunnel.  Christianity Today (2000)\n",
      "We are told that we have an obesity epidemic, as if it were some weird disease which has descended upon people.  The Sun (2014)\n",
      "A long, sultry heat descends on the hills. Jack Turner  SPICE: The History of a Temptation (2004)\n",
      "\n",
      " People descend and spend their money, but it doesn't stay in the local economy.  Times, Sunday Times (2011)\n",
      "But underneath there are three huge floors of basement, accessed by a descending spiral staircase that drops past an astonishingly beautiful sheet of underground rock.  Times, Sunday Times (2015)\n",
      "Around it are lawns so peaceful you would scarcely know that 70,000 people are descending on an arena barely 200 yards away.  Times, Sunday Times (2015)\n"
     ]
    }
   ],
   "source": [
    "x = checkout_word(random.choice(all_words))\n",
    "\n",
    "print('\\n--\\n'.join(x))"
   ]
  },
  {
   "cell_type": "code",
   "execution_count": null,
   "metadata": {},
   "outputs": [],
   "source": []
  }
 ],
 "metadata": {
  "kernelspec": {
   "display_name": "Python 3",
   "language": "python",
   "name": "python3"
  },
  "language_info": {
   "codemirror_mode": {
    "name": "ipython",
    "version": 3
   },
   "file_extension": ".py",
   "mimetype": "text/x-python",
   "name": "python",
   "nbconvert_exporter": "python",
   "pygments_lexer": "ipython3",
   "version": "3.7.4"
  }
 },
 "nbformat": 4,
 "nbformat_minor": 4
}
