{
 "cells": [
  {
   "cell_type": "code",
   "execution_count": 2,
   "metadata": {},
   "outputs": [],
   "source": [
    "import pycurl\n",
    "from io import BytesIO"
   ]
  },
  {
   "cell_type": "code",
   "execution_count": 6,
   "metadata": {},
   "outputs": [],
   "source": [
    "# check detail: http://pycurl.io/docs/latest/quickstart.html#retrieving-a-network-resource\n",
    "def fetch_url(url):\n",
    "    buffer = BytesIO()\n",
    "    c = pycurl.Curl()\n",
    "    c.setopt(c.URL, url)\n",
    "    c.setopt(c.WRITEDATA, buffer)\n",
    "    c.perform()\n",
    "    c.close()\n",
    "    return buffer.getvalue()"
   ]
  },
  {
   "cell_type": "code",
   "execution_count": 8,
   "metadata": {},
   "outputs": [
    {
     "name": "stdout",
     "output_type": "stream",
     "text": [
      "https://www.examword.com/toefl-list/5000-vocabulary-1?la=en#\n",
      "https://www.examword.com/toefl-list/5000-vocabulary-2?la=en#\n",
      "https://www.examword.com/toefl-list/5000-vocabulary-3?la=en#\n",
      "https://www.examword.com/toefl-list/5000-vocabulary-4?la=en#\n",
      "https://www.examword.com/toefl-list/5000-vocabulary-5?la=en#\n",
      "https://www.examword.com/toefl-list/5000-vocabulary-6?la=en#\n",
      "https://www.examword.com/toefl-list/5000-vocabulary-7?la=en#\n",
      "https://www.examword.com/toefl-list/5000-vocabulary-8?la=en#\n",
      "https://www.examword.com/toefl-list/5000-vocabulary-9?la=en#\n",
      "https://www.examword.com/toefl-list/5000-vocabulary-10?la=en#\n"
     ]
    }
   ],
   "source": [
    "for j in range(10):\n",
    "    url = 'https://www.examword.com/toefl-list/5000-vocabulary-{}?la=en#'.format(j+1)\n",
    "    print(url)\n",
    "    body = fetch_url(url)\n",
    "    print(body.decode('iso-8859-1'), file=open('raw_htmls/v{}.html'.format(j+1), 'w'))"
   ]
  },
  {
   "cell_type": "code",
   "execution_count": null,
   "metadata": {},
   "outputs": [],
   "source": []
  }
 ],
 "metadata": {
  "kernelspec": {
   "display_name": "Python 3",
   "language": "python",
   "name": "python3"
  },
  "language_info": {
   "codemirror_mode": {
    "name": "ipython",
    "version": 3
   },
   "file_extension": ".py",
   "mimetype": "text/x-python",
   "name": "python",
   "nbconvert_exporter": "python",
   "pygments_lexer": "ipython3",
   "version": "3.7.4"
  }
 },
 "nbformat": 4,
 "nbformat_minor": 4
}
