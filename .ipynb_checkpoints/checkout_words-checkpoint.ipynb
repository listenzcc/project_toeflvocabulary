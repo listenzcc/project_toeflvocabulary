{
 "cells": [
  {
   "cell_type": "code",
   "execution_count": 131,
   "metadata": {},
   "outputs": [],
   "source": [
    "import time\n",
    "import pycurl\n",
    "import random\n",
    "from io import BytesIO\n",
    "from bs4 import BeautifulSoup"
   ]
  },
  {
   "cell_type": "code",
   "execution_count": 60,
   "metadata": {},
   "outputs": [],
   "source": [
    "# check detail: http://pycurl.io/docs/latest/quickstart.html#retrieving-a-network-resource\n",
    "def fetch_url(url):\n",
    "    buffer = BytesIO()\n",
    "    c = pycurl.Curl()\n",
    "    c.setopt(pycurl.USERAGENT, 'Mozilla/5.0 (Windows; U; Windows NT 6.1; it; rv:1.9.2.3) Gecko/20100401 Firefox/3.6.3 (.NET CLR 3.5.30729)')\n",
    "    c.setopt(c.URL, url)\n",
    "    c.setopt(c.WRITEDATA, buffer)\n",
    "    c.perform()\n",
    "    c.close()\n",
    "    return buffer.getvalue()"
   ]
  },
  {
   "cell_type": "code",
   "execution_count": 40,
   "metadata": {},
   "outputs": [],
   "source": [
    "fname = 'v1.html'\n",
    "\n",
    "def get_words(fname, name='div', attrs={'class': 'glface'}):\n",
    "    with open(fname, 'r') as f:\n",
    "        html = f.readlines()\n",
    "        soup = BeautifulSoup(''.join(html))\n",
    "        entries = soup.find_all(name, attrs=attrs)\n",
    "        return [e.get_text() for e in entries]"
   ]
  },
  {
   "cell_type": "code",
   "execution_count": 45,
   "metadata": {},
   "outputs": [
    {
     "name": "stdout",
     "output_type": "stream",
     "text": [
      "v1.html\n",
      "v2.html\n",
      "v3.html\n",
      "v4.html\n",
      "v5.html\n",
      "v6.html\n",
      "v7.html\n",
      "v8.html\n",
      "v9.html\n",
      "v10.html\n"
     ]
    }
   ],
   "source": [
    "all_words = []\n",
    "\n",
    "for j in range(10):\n",
    "    fname = 'v{}.html'.format(j+1)\n",
    "    print(fname)\n",
    "    all_words += get_words(fname)\n"
   ]
  },
  {
   "cell_type": "code",
   "execution_count": 46,
   "metadata": {},
   "outputs": [
    {
     "data": {
      "text/plain": [
       "4845"
      ]
     },
     "execution_count": 46,
     "metadata": {},
     "output_type": "execute_result"
    }
   ],
   "source": [
    "len(all_words)"
   ]
  },
  {
   "cell_type": "code",
   "execution_count": 138,
   "metadata": {},
   "outputs": [],
   "source": [
    "def checkout_word(word):\n",
    "    print('{}'.format(word))\n",
    "    url = 'https://www.collinsdictionary.com/dictionary/english/{}'.format(word)\n",
    "    # print(url)\n",
    "    html = fetch_url(url)\n",
    "    soup = BeautifulSoup(html)\n",
    "    entries = soup.find_all('div', attrs={'class': 'cB cB-def cobuild br'})\n",
    "    string = entries[0].get_text()\n",
    "    return [e for e in string.split('\\n') if e]"
   ]
  },
  {
   "cell_type": "code",
   "execution_count": 142,
   "metadata": {},
   "outputs": [
    {
     "name": "stdout",
     "output_type": "stream",
     "text": [
      "humble\n",
      "0\n",
      "1\n",
      "2\n",
      "humble\n",
      "Word Frequency\n",
      " (hʌmbəl\n",
      ")\n",
      "Word forms: comparative humbler\n",
      ",  superlative humblest\n",
      ", 3rd person singular present\n",
      "tense humbles\n",
      ",  present participle humbling\n",
      ",  past tense, past participle humbled\n",
      "1. adjective\n",
      "A humble person is not proud and does not believe that they are better than other people.\n",
      " He gave a great performance, but he was very humble.\n",
      " Andy was a humble, courteous and gentle man.\n",
      " ...a humble apology.\n",
      "Synonyms: modest, meek, unassuming, unpretentious   More Synonyms of humble \n",
      "humbly\n",
      " adverb [ADVERB with verb] 'I'm a lucky man, undeservedly lucky,' he said humbly.\n",
      "2. adjective [usually ADJECTIVE noun]\n",
      "People with low social status are sometimes described as humble.\n",
      " Spyros Latsis started his career as a humble fisherman in the Aegean.\n",
      " He came from a fairly humble, poor background.\n",
      "Synonyms: lowly, common, poor, mean   More Synonyms of humble  \n",
      "googletag.cmd.push(function() { googletag.display('ad_contentslot_1'); });\n",
      "Criteo.DisplayAcceptableAdIfAdblocked({\n",
      "\"zoneid\": 1384197,\n",
      "\"containerid\": \"hcdcrt-2226456755977584896\",\n",
      "\"callbackSuccess\": function(event){\n",
      "stickyslotid = \".ac_leftslot_a.sticky .hcdcrt\";\n",
      "},\n",
      "\"callIfNotAdBlocked\": function() {\n",
      "stickyslotid = refstickyslotid;\n",
      "}\n",
      "});\n",
      " \n",
      "3. adjective\n",
      "A humble place or thing is ordinary and not special in any way.\n",
      " There are restaurants, both humble and expensive, that specialize in them.\n",
      " Varndell made his own reflector for these shots from a strip of humble kitchen foil.\n",
      "Synonyms: ordinary, common, commonplace   More Synonyms of humble \n",
      "4. adjective\n",
      "People use humble in a phrase such as in my humble opinion as a polite way of emphasizing what they think, even though they do not feel humble about it.\n",
      " [politeness] It is, in my humble opinion, perhaps the best steak restaurant in Great Britain.\n",
      "humbly\n",
      " adverb [ADVERB before verb] So may I humbly suggest we all do something next time.\n",
      "Synonyms: meekly, modestly, respectfully, cap in hand   More Synonyms of humble\n",
      "5.   See  to eat humble pie  \n",
      "googletag.cmd.push(function() { googletag.display('ad_contentslot_2'); });\n",
      "Criteo.DisplayAcceptableAdIfAdblocked({\n",
      "\"zoneid\": 1384198,\n",
      "\"containerid\": \"hcdcrt-4204488785432856064\",\n",
      "\"callbackSuccess\": function(event){\n",
      "stickyslotid = \".ac_leftslot_a.sticky .hcdcrt\";\n",
      "},\n",
      "\"callIfNotAdBlocked\": function() {\n",
      "stickyslotid = refstickyslotid;\n",
      "}\n",
      "});\n",
      " \n",
      "6. verb\n",
      "If you humble someone who is more important or powerful than you, you defeat them easily.\n",
      " ...the little car company that humbled the industry giants. [VERB noun]\n",
      " The fans could have cried as their team were humbled and humiliated in the first\n",
      "half. [VERB noun]\n",
      "Synonyms: humiliate, shame, disgrace, break   More Synonyms of humble \n",
      "7. verb\n",
      "If something or someone humbles you, they make you realize that you are not as important or good as you thought you were.\n",
      " Ted's words humbled me. [VERB noun]\n",
      " I am sure millions of viewers were humbled by this story. [VERB noun]\n",
      "humbled\n",
      " adjective I came away very humbled and recognizing that I, for one, am not well-informed.\n",
      "humbling\n",
      " adjective Giving up an addiction is a humbling experience.\n",
      "More Synonyms of humble\n",
      "COBUILD Advanced English Dictionary. Copyright © HarperCollins Publishers\n"
     ]
    }
   ],
   "source": [
    "exp = checkout_word(random.choice(all_words))\n",
    "for _ in range(3):\n",
    "    print(_)\n",
    "    time.sleep(1)\n",
    "print('\\n'.join(exp))"
   ]
  },
  {
   "cell_type": "code",
   "execution_count": null,
   "metadata": {},
   "outputs": [],
   "source": []
  }
 ],
 "metadata": {
  "kernelspec": {
   "display_name": "Python 3",
   "language": "python",
   "name": "python3"
  },
  "language_info": {
   "codemirror_mode": {
    "name": "ipython",
    "version": 3
   },
   "file_extension": ".py",
   "mimetype": "text/x-python",
   "name": "python",
   "nbconvert_exporter": "python",
   "pygments_lexer": "ipython3",
   "version": "3.7.4"
  }
 },
 "nbformat": 4,
 "nbformat_minor": 4
}
