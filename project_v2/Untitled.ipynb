{
 "cells": [
  {
   "cell_type": "code",
   "execution_count": 82,
   "metadata": {},
   "outputs": [],
   "source": [
    "import json\n",
    "import execjs\n",
    "import requests\n",
    "from io import BytesIO\n",
    "from bs4 import BeautifulSoup"
   ]
  },
  {
   "cell_type": "code",
   "execution_count": 71,
   "metadata": {},
   "outputs": [],
   "source": [
    "def get_sign(word):\n",
    "    JsData = execjs.compile(\"\"\"\n",
    "    function a(r) {\n",
    "        if (Array.isArray(r)) {\n",
    "            for (var o = 0,\n",
    "            t = Array(r.length); o < r.length; o++) t[o] = r[o];\n",
    "            return t\n",
    "        }\n",
    "        return Array.from(r)\n",
    "    }\n",
    "    function n(r, o) {\n",
    "        for (var t = 0; t < o.length - 2; t += 3) {\n",
    "            var a = o.charAt(t + 2);\n",
    "            a = a >= \"a\" ? a.charCodeAt(0) - 87 : Number(a),\n",
    "            a = \"+\" === o.charAt(t + 1) ? r >>> a: r << a,\n",
    "            r = \"+\" === o.charAt(t) ? r + a & 4294967295 : r ^ a\n",
    "        }\n",
    "        return r\n",
    "    }\n",
    "    function e(r) {\n",
    "        var o = r.match(/[\\uD800-\\uDBFF][\\uDC00-\\uDFFF]/g);\n",
    "        if (null === o) {\n",
    "            var t = r.length;\n",
    "            t > 30 && (r = \"\" + r.substr(0, 10) + r.substr(Math.floor(t / 2) - 5, 10) + r.substr( - 10, 10))\n",
    "        } else {\n",
    "            for (var e = r.split(/[\\uD800-\\uDBFF][\\uDC00-\\uDFFF]/), C = 0, h = e.length, f = []; h > C; C++)\"\" !== e[C] && f.push.apply(f, a(e[C].split(\"\"))),\n",
    "            C !== h - 1 && f.push(o[C]);\n",
    "            var g = f.length;\n",
    "            g > 30 && (r = f.slice(0, 10).join(\"\") + f.slice(Math.floor(g / 2) - 5, Math.floor(g / 2) + 5).join(\"\") + f.slice( - 10).join(\"\"))\n",
    "        }\n",
    "        var u = void 0,\n",
    "        l = \"\" + String.fromCharCode(103) + String.fromCharCode(116) + String.fromCharCode(107);\n",
    "        u = null !== i ? i: (i = \"320305.131321201\" || \"\") || \"\";\n",
    "        for (var d = u.split(\".\"), m = Number(d[0]) || 0, s = Number(d[1]) || 0, S = [], c = 0, v = 0; v < r.length; v++) {\n",
    "            var A = r.charCodeAt(v);\n",
    "            128 > A ? S[c++] = A: (2048 > A ? S[c++] = A >> 6 | 192 : (55296 === (64512 & A) && v + 1 < r.length && 56320 === (64512 & r.charCodeAt(v + 1)) ? (A = 65536 + ((1023 & A) << 10) + (1023 & r.charCodeAt(++v)), S[c++] = A >> 18 | 240, S[c++] = A >> 12 & 63 | 128) : S[c++] = A >> 12 | 224, S[c++] = A >> 6 & 63 | 128), S[c++] = 63 & A | 128)\n",
    "        }\n",
    "        for (var p = m,\n",
    "        F = \"\" + String.fromCharCode(43) + String.fromCharCode(45) + String.fromCharCode(97) + (\"\" + String.fromCharCode(94) + String.fromCharCode(43) + String.fromCharCode(54)), D = \"\" + String.fromCharCode(43) + String.fromCharCode(45) + String.fromCharCode(51) + (\"\" + String.fromCharCode(94) + String.fromCharCode(43) + String.fromCharCode(98)) + (\"\" + String.fromCharCode(43) + String.fromCharCode(45) + String.fromCharCode(102)), b = 0; b < S.length; b++) p += S[b],\n",
    "        p = n(p, F);\n",
    "        return p = n(p, D),\n",
    "        p ^= s,\n",
    "        0 > p && (p = (2147483647 & p) + 2147483648),\n",
    "        p %= 1e6,\n",
    "        p.toString() + \".\" + (p ^ m)\n",
    "    }\n",
    "    var i = null;\n",
    "    \"\"\".encode('utf-8', 'ignore').decode()).call(\"e\", word)# 给e传递参数\n",
    "    return JsData"
   ]
  },
  {
   "cell_type": "code",
   "execution_count": 72,
   "metadata": {},
   "outputs": [],
   "source": [
    "headers = {\n",
    "    'Accept': 'text/html, application/xhtml+xml, application/xml; q=0.9, */*; q=0.8',\n",
    "    'Accept-Encoding': 'gzip, utf-8',\n",
    "    'Accept-Language': 'zh-Hans-CN, zh-Hans; q=0.8, en-US; q=0.5, en; q=0.3',\n",
    "    'Cache-Control': 'max-age=0',\n",
    "    'Cookie': 'from_lang_often=%5B%7B%22value%22%3A%22zh%22%2C%22text%22%3A%22%u4E2D%u6587%22%7D%2C%7B%22value%22%3A%22en%22%2C%22text%22%3A%22%u82F1%u8BED%22%7D%5D; SOUND_PREFER_SWITCH=1; to_lang_often=%5B%7B%22value%22%3A%22en%22%2C%22text%22%3A%22%u82F1%u8BED%22%7D%2C%7B%22value%22%3A%22zh%22%2C%22text%22%3A%22%u4E2D%u6587%22%7D%5D; FANYI_WORD_SWITCH=1; DOUBLE_LANG_SWITCH=1; SOUND_SPD_SWITCH=1; REALTIME_TRANS_SWITCH=1; HISTORY_SWITCH=1; ZD_ENTRY=bing; delPer=0; H_PS_PSSID=1456_21126_29568_29221_22160; BAIDUID=8CF1134B0384C49FC42883861B095004:FG=1; BIDUPSID=8CF1134B0384C49FC42883861B095004; PSTM=1529043352; yjs_js_security_passport=f8c1acad087729606ba0115bcda8b27bf5d5302a_1574736663_js; MCITY=-%3A; __yjsv5_shitong=1.0_7_7f973d3692894b3577f17d1ae21971319458_300_1574736658426_103.254.68.231_a6625a03',\n",
    "    'DNT': '1',\n",
    "    'Host': 'fanyi.baidu.com',\n",
    "    'Upgrade-Inscure-Requests': '1',\n",
    "    'User-Agent': 'Mozilla/5.0 (Windows NT 10.0; Win64; x64) AppleWebKit/537.36 (KHTML, like Gecko) Chrome/70.0.3538.102 Safari/537.36 Edge/18.18362',\n",
    "}\n",
    "url1 = 'https://fanyi.baidu.com/#en/zh/like'\n",
    "res1 = requests.get(url1, headers=headers)"
   ]
  },
  {
   "cell_type": "code",
   "execution_count": 143,
   "metadata": {},
   "outputs": [],
   "source": [
    "headers = {\n",
    "   'Accept': '*/*',\n",
    "   'Accept-Encoding': 'gzip, deflate, br',\n",
    "   'Accept-Language': 'zh-Hans-CN, zh-Hans; q=0.8, en-US; q=0.5, en; q=0.3',\n",
    "   'Cache-Control': 'max-age=0',\n",
    "   'Content-Length': '105',\n",
    "   'Content-Type': 'application/x-www-form-urlencoded; charset=UTF-8',\n",
    "   'Cookie': 'from_lang_often=%5B%7B%22value%22%3A%22zh%22%2C%22text%22%3A%22%u4E2D%u6587%22%7D%2C%7B%22value%22%3A%22en%22%2C%22text%22%3A%22%u82F1%u8BED%22%7D%5D; SOUND_PREFER_SWITCH=1; to_lang_often=%5B%7B%22value%22%3A%22en%22%2C%22text%22%3A%22%u82F1%u8BED%22%7D%2C%7B%22value%22%3A%22zh%22%2C%22text%22%3A%22%u4E2D%u6587%22%7D%5D; FANYI_WORD_SWITCH=1; DOUBLE_LANG_SWITCH=1; SOUND_SPD_SWITCH=1; REALTIME_TRANS_SWITCH=1; HISTORY_SWITCH=1; ZD_ENTRY=bing; delPer=0; H_PS_PSSID=1456_21126_29568_29221_22160; BAIDUID=8CF1134B0384C49FC42883861B095004:FG=1; BIDUPSID=8CF1134B0384C49FC42883861B095004; PSTM=1529043352; yjs_js_security_passport=f8c1acad087729606ba0115bcda8b27bf5d5302a_1574736663_js; MCITY=-%3A; __yjsv5_shitong=1.0_7_7f973d3692894b3577f17d1ae21971319458_300_1574737785347_103.254.68.231_2f34aaa5',\n",
    "   'DNT': '1',\n",
    "   'Host': 'fanyi.baidu.com',\n",
    "   'Origin': 'https://fanyi.baidu.com',\n",
    "   'Referer': 'https://fanyi.baidu.com/',\n",
    "   'User-Agent': 'Mozilla/5.0 (Windows NT 10.0; Win64; x64) AppleWebKit/537.36 (KHTML, like Gecko) Chrome/70.0.3538.102 Safari/537.36 Edge/18.18362',\n",
    "   'X-Requested-With': 'XMLHttpRequest',\n",
    "}\n",
    "\n",
    "word = 'abandon'\n",
    "\n",
    "data = {\n",
    "    'from': 'en',\n",
    "    'query': word,\n",
    "    'sign': get_sign(word),\n",
    "    'simple_means_flag': '3',\n",
    "    'to': 'zh',\n",
    "    'token': 'fd4a3033d0f473dfeee1a4974482f799'\n",
    "}\n",
    "\n",
    "url2 = 'https://fanyi.baidu.com/v2transapi?from=en&to=zh'\n",
    "res2 = requests.post(url2, headers=headers, data=data)"
   ]
  },
  {
   "cell_type": "code",
   "execution_count": 144,
   "metadata": {},
   "outputs": [],
   "source": [
    "s = res2.content\n",
    "\n",
    "x = json.loads(s)"
   ]
  },
  {
   "cell_type": "code",
   "execution_count": 145,
   "metadata": {},
   "outputs": [
    {
     "data": {
      "text/plain": [
       "dict_keys(['trans_result', 'dict_result', 'liju_result', 'logid'])"
      ]
     },
     "execution_count": 145,
     "metadata": {},
     "output_type": "execute_result"
    }
   ],
   "source": [
    "x.keys()"
   ]
  },
  {
   "cell_type": "code",
   "execution_count": 156,
   "metadata": {},
   "outputs": [
    {
     "data": {
      "text/plain": [
       "{'data': [{'dst': '放弃',\n",
       "   'prefixWrap': 0,\n",
       "   'result': [[0, '放弃', ['0|7'], [], ['0|7'], ['0|6']]],\n",
       "   'src': 'abandon'}],\n",
       " 'from': 'en',\n",
       " 'status': 0,\n",
       " 'to': 'zh',\n",
       " 'type': 2,\n",
       " 'phonetic': [{'src_str': '放', 'trg_str': 'fàng'},\n",
       "  {'src_str': '弃', 'trg_str': 'qì'}]}"
      ]
     },
     "execution_count": 156,
     "metadata": {},
     "output_type": "execute_result"
    }
   ],
   "source": [
    "x['trans_result']"
   ]
  },
  {
   "cell_type": "code",
   "execution_count": 148,
   "metadata": {},
   "outputs": [
    {
     "data": {
      "text/plain": [
       "dict_keys(['edict', 'collins', 'from', 'simple_means', 'lang', 'oxford', 'sanyms', 'usecase', 'synonym', 'rootsaffixes'])"
      ]
     },
     "execution_count": 148,
     "metadata": {},
     "output_type": "execute_result"
    }
   ],
   "source": [
    "x['dict_result'].keys()"
   ]
  },
  {
   "cell_type": "code",
   "execution_count": 158,
   "metadata": {},
   "outputs": [
    {
     "data": {
      "text/plain": [
       "[{'synonyms': [{'tips': '',\n",
       "    'bx': '强调永远并完全放弃，不论自愿与否，也可能是为了逃避责任。',\n",
       "    'syn': {'p': 'v.', 'word': 'abandon', 'd': ['放弃，遗弃']},\n",
       "    'ex': [{'enText': 'He abandoned his wife and took all their money.',\n",
       "      'chText': '他抛弃了妻子，拿走了他们所有的钱财。'},\n",
       "     {'enText': 'The captain ordered everyone to abandon the burning ship.',\n",
       "      'chText': '船长向所有人下令放弃正在燃烧的船只。'}]},\n",
       "   {'tips': '',\n",
       "    'bx': '常指国王等放弃王位。',\n",
       "    'syn': {'p': 'v.', 'word': 'abdicate', 'd': ['让位，退位']},\n",
       "    'ex': [{'enText': 'The Queen has no intention of abdicating her throne.',\n",
       "      'chText': '女王不打算让位。'},\n",
       "     {'enText': 'King Edward VIII abdicated in 1936.',\n",
       "      'chText': '英王爱德华八世于1936年退位。'}]},\n",
       "   {'tips': '',\n",
       "    'bx': '多指放弃从前的职业、伙伴、伴侣及监护人资格等，有时带有内疚感。',\n",
       "    'syn': {'p': 'v.', 'word': 'desert', 'd': ['抛弃，放弃']},\n",
       "    'ex': [{'enText': 'He deserted his wife and married a Japanese girl.',\n",
       "      'chText': '他抛弃妻子后，和一位日本姑娘结婚了。'},\n",
       "     {'enText': 'The mother deserted the baby boy soon after giving birth.',\n",
       "      'chText': '那位母亲生下男婴后不久就把他遗弃了。'}]},\n",
       "   {'tips': '',\n",
       "    'bx': '普通用语，强调终止做某事，通常用来表示放弃某个计划、设计、工作、职位等。',\n",
       "    'syn': {'p': 'phr.', 'word': 'give up', 'd': ['取消；放弃']},\n",
       "    'ex': [{'enText': 'He has given up his decision to visit New York.',\n",
       "      'chText': '他取消了访问纽约的决定。'},\n",
       "     {'enText': \"I'll give up the job.\", 'chText': '我要辞去这份工作。'}]},\n",
       "   {'tips': '',\n",
       "    'bx': '常指停止做于己不利或伤害他人的事。',\n",
       "    'syn': {'p': 'v.',\n",
       "     'word': 'quit',\n",
       "     'd': [{'text': '终止；戒除', 'tag': '〈尤美〉'}]},\n",
       "    'ex': [{'enText': 'He wants to quit smoking.', 'chText': '他想戒烟。'},\n",
       "     {'enText': \"If I don't get a pay rise, I'll quit.\",\n",
       "      'chText': '如果不给我加薪，我就不干了。'}]},\n",
       "   {'tips': '',\n",
       "    'bx': '表示正式声明放弃职位、官衔、权力等。',\n",
       "    'syn': {'p': 'v.', 'word': 'renounce', 'd': ['放弃']},\n",
       "    'ex': [{'enText': 'He renounced his citizenship.',\n",
       "      'chText': '他正式声明放弃公民权利。'},\n",
       "     {'enText': 'She renounced her religion.', 'chText': '她宣布放弃自己的宗教信仰。'}]},\n",
       "   {'tips': '',\n",
       "    'bx': '表示正式宣布放弃权利、要求，或宣布取消规则、规定等。',\n",
       "    'syn': {'p': 'v.', 'word': 'waive', 'd': ['放弃；取消']},\n",
       "    'ex': [{'enText': 'He had to waive his right to vote in Parliament.',\n",
       "      'chText': '他只好放弃在议会的投票权。'},\n",
       "     {'enText': 'The local government refused to waive its rules.',\n",
       "      'chText': '地方政府拒绝取缔其规定。'}]}],\n",
       "  'guide': '导航词义：抛弃，放弃',\n",
       "  'words': ['abandon',\n",
       "   'abdicate',\n",
       "   'desert',\n",
       "   'give up',\n",
       "   'quit',\n",
       "   'renounce',\n",
       "   'waive']},\n",
       " {'synonyms': [{'tips': '',\n",
       "    'bx': '指取消已安排或决定好的计划等。',\n",
       "    'syn': {'p': 'v.', 'word': 'cancel', 'd': ['取消']},\n",
       "    'ex': [{'enText': 'The flight to New York was cancelled.',\n",
       "      'chText': '飞往纽约的班机取消了。'},\n",
       "     {'enText': 'The project to build the dam was cancelled.',\n",
       "      'chText': '建大坝的项目取消了。'}]},\n",
       "   {'tips': '',\n",
       "    'bx': '指因困难太多、无法继续下去而放弃做某事。',\n",
       "    'syn': {'p': 'v.', 'word': 'abandon', 'd': ['放弃，中止']},\n",
       "    'ex': [{'enText': 'He had abandoned all hopes.', 'chText': '他已经放弃了一切希望。'},\n",
       "     {'enText': 'They abandoned the project due to lack of funds.',\n",
       "      'chText': '由于缺乏资金，他们中止了这项工程。'}]},\n",
       "   {'tips': '',\n",
       "    'bx': '强调不再继续下去。',\n",
       "    'syn': {'p': 'v.', 'word': 'drop', 'd': ['停止，放弃']},\n",
       "    'ex': [{'enText': 'They dropped their talk.', 'chText': '他们停止了谈话。'},\n",
       "     {'enText': 'Drop everything and come here immediately.',\n",
       "      'chText': '放下所有的事情立即到这里来。'}]}],\n",
       "  'guide': '导航词义：取消，放弃',\n",
       "  'words': ['cancel', 'abandon', 'drop']}]"
      ]
     },
     "execution_count": 158,
     "metadata": {},
     "output_type": "execute_result"
    }
   ],
   "source": [
    "x['dict_result']['synonym']"
   ]
  },
  {
   "cell_type": "code",
   "execution_count": 136,
   "metadata": {},
   "outputs": [
    {
     "name": "stdout",
     "output_type": "stream",
     "text": [
      "[[['Tourism', 'w_1420', 'w_1420,w_1428,w_1429', 0, ' '], ['is', 'w_1421', 'w_1421,w_1422,w_1433', 0, ' '], ['vital', 'w_1422', 'w_1421,w_1422,w_1433', 0, ' '], ['for', 'w_1423', 'w_1423,w_1430', 0, ' '], ['the', 'w_1424', 'w_1424', 0, ' '], ['Spanish', 'w_1425', 'w_1425,w_1431', 0, ' '], ['economy', 'w_1426', 'w_1426,w_1432', 1], ['.', 'w_1427', 'w_1427,w_1434', 0]], [['旅游', 'w_1428', 'w_1420,w_1428,w_1429', 0], ['业', 'w_1429', 'w_1420,w_1428,w_1429', 0], ['对', 'w_1430', 'w_1423,w_1430', 0], ['西班牙', 'w_1431', 'w_1425,w_1431', 0], ['经济', 'w_1432', 'w_1426,w_1432', 0], ['至关重要', 'w_1433', 'w_1421,w_1422,w_1433', 0], ['。', 'w_1434', 'w_1427,w_1434', 0]], '《柯林斯高阶英汉双解学习词典》', 65152]\n"
     ]
    }
   ],
   "source": [
    "y = json.loads(x['liju_result']['double'])\n",
    "print(y[29])"
   ]
  },
  {
   "cell_type": "code",
   "execution_count": null,
   "metadata": {},
   "outputs": [],
   "source": []
  }
 ],
 "metadata": {
  "kernelspec": {
   "display_name": "Python 3",
   "language": "python",
   "name": "python3"
  },
  "language_info": {
   "codemirror_mode": {
    "name": "ipython",
    "version": 3
   },
   "file_extension": ".py",
   "mimetype": "text/x-python",
   "name": "python",
   "nbconvert_exporter": "python",
   "pygments_lexer": "ipython3",
   "version": "3.7.4"
  }
 },
 "nbformat": 4,
 "nbformat_minor": 4
}
