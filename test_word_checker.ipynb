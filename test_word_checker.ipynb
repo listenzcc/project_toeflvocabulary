{
 "cells": [
  {
   "cell_type": "code",
   "execution_count": 1,
   "metadata": {},
   "outputs": [
    {
     "name": "stdout",
     "output_type": "stream",
     "text": [
      "Loading all_words done. 4845 words found.\n",
      "no such table: mydictionary\n",
      "I remember [0] words.\n",
      "Format are.\n",
      "(0, 'word', 'text', 0, None, 0)\n",
      "(1, 'dictname', 'text', 0, None, 0)\n",
      "(2, 'meanings', 'text', 0, None, 0)\n",
      "(3, 'examples', 'text', 0, None, 0)\n"
     ]
    }
   ],
   "source": [
    "import tqdm\n",
    "import random\n",
    "from word_checker import all_words, mydictionary, checkout_word"
   ]
  },
  {
   "cell_type": "code",
   "execution_count": 17,
   "metadata": {},
   "outputs": [
    {
     "name": "stdout",
     "output_type": "stream",
     "text": [
      "Remembering lumber.\n"
     ]
    },
    {
     "data": {
      "text/plain": [
       "{'word': 'lumber',\n",
       " 'dictname': 'dictionary Cob_Adv_Brit',\n",
       " 'meanings': '(lʌmbəʳ)\\n1.\\xa0uncountable noun\\nLumber consists of trees and large pieces of wood that have been roughly cut up.\\n [mainly US] It was made of soft lumber, spruce by the look of it.\\n He was going to have to purchase all his lumber at full retail price.\\nSynonyms: junk, refuse, rubbish, discards \\xa0 More Synonyms of lumber\\n2.\\xa0verb\\nIf someone or something lumbers from one place to another, they move there very slowly and clumsily.\\n He turned and lumbered back to his chair. [VERB adverb/preposition]\\n The truck lumbered across the parking lot toward the road. [VERB adverb/preposition]\\n He looked straight ahead and overtook a lumbering lorry. [VERB-ing]\\nSynonyms: plod, shuffle, shamble, trudge \\xa0 More Synonyms of lumber',\n",
       " 'examples': 'Example sentences including\\nlumber\\nThese examples have been automatically selected and may contain sensitive content.\\n\\nMost employers today are far more worried about skills shortages than about being lumbered with too many staff.  Times, Sunday Times (2011)\\nOn game drives, the trucks lumber past them without pause.  Times, Sunday Times (2012)\\nAfter an agonising wait for the elephants to arrive, we climb aboard and lumber into the woods.  Times, Sunday Times (2007)\\nSome models suggest that the lumber price could trend towards a high more than 300 per cent above its 2009 low.  Times, Sunday Times (2010)\\nAs the food trucks came lumbering down the road, passing the city of shacks and tents, the whole camp stood up as one.  Times, Sunday Times (2010)'}"
      ]
     },
     "execution_count": 17,
     "metadata": {},
     "output_type": "execute_result"
    }
   ],
   "source": [
    "mydictionary.checkout(random.choice(all_words))"
   ]
  },
  {
   "cell_type": "code",
   "execution_count": 7,
   "metadata": {},
   "outputs": [
    {
     "name": "stdout",
     "output_type": "stream",
     "text": [
      "<-- survivor -->\n",
      "<-- https://www.collinsdictionary.com/dictionary/english/survivor -->\n",
      "<-- Available dictionaries: -->\n",
      "<-- dictionary Cob_Adv_Brit -->\n",
      "<-- dictionary Collins_Eng_Dict -->\n",
      "<-- dictionary Large_US_Webster -->\n",
      "<-- Using dictionary Cob_Adv_Brit -->\n"
     ]
    },
    {
     "data": {
      "text/plain": [
       "{'word': 'survivor',\n",
       " 'dictname': 'dictionary Cob_Adv_Brit',\n",
       " 'meanings': \"(səʳvaɪvəʳ)\\n1.\\xa0countable noun\\nA survivor of a disaster, accident, or illness is someone who continues to live afterwards in spite of coming close to death.\\n Officials said there were no survivors of the plane crash. [+ of]\\n2.\\xa0countable noun\\nA survivor of a very unpleasant experience is a person who has had such an experience, and who is still affected by it.\\n This book is written with survivors of child sexual abuse in mind. [+ of]\\n3.\\xa0countable noun [usually plural, usually poss NOUN]\\nA person's survivors are the members of their family who continue to live after they have died.\\n [US] The compensation bill offers the miners or their survivors as much as $100,000 apiece. [Also + of]\\n4.\\xa0countable noun\\nIf you describe someone as a survivor, you approve of the fact that they are able to carry on with their life even though they experience many difficulties.\\n [approval] Above all Susie is a great survivor, with a bright, indomitable spirit.\\n5.\\xa0countable noun [oft N from n]\\nIf you describe a person or thing as a survivor from an earlier period, you mean that they are still present or available, but other people or things from that period have died or disappeared.\\n He was the sole survivor from that winning side.\\n This is the only known survivor of 30 test cars built by the company.\",\n",
       " 'examples': \"Example sentences including\\nsurvivor\\nThese examples have been automatically selected and may contain sensitive content.\\n\\nOne of the great survivors of the rock business has no plans to retire.  Times, Sunday Times (2010)\\nSurvivors said that one man was overcome by fumes after a fuel tank spill.  Times, Sunday Times (2015)\\nWe talk of future prospects and past history and live survivors and safe havens.  Times, Sunday Times (2014)\\nThe move is part of a package of measures to better support domestic abuse survivors.  The Sun (2016)\\nBut it was just one or two survivors. Max Arthur  Lost Voices of the Edwardians: 19011910 in the words of the Men & Women Who Were\\nThere (2006)\\nBut the history of previous banking crises shows that the survivors not only live but live well.  Times, Sunday Times (2009)\\nThe move has angered abuse survivors and campaigners.  Times, Sunday Times (2015)\\nSurvivors are still haunted by the memories.  The Sun (2011)\\nSurvivors of childhood abuse may lose their families. Herman, Judith Lewis  Trauma and Recovery (1992)\\nSurvivors are still fighting for memorials at the sites.  The Sun (2012)\\n\\nThe train is the great survivor.  Times, Sunday Times (2015)\\nJust call me the great survivor.  The Sun (2012)\\nThere can be only one survivor.  Times, Sunday Times (2010)\\nTales of savage cruelty are being told by survivors of one of the biggest and most complex international hostage crises in decades.  Times, Sunday Times (2013)\\nWhat does this mean for survivors who've experienced evil firsthand?  Christianity Today (2000)\\nThat may help to explain why he is one of the country's great political survivors.  Times, Sunday Times (2012)\\nRecognising the pain that caused the survivors, his team decided to rescue dogs along with their owners.  Times, Sunday Times (2012)\\nThe world has been ripped apart by nuclear war and the only survivors live deep in the Moscow subway.  Times, Sunday Times (2013)\\nResearch shows that they, too, are affected by redundancies and often experience survivor guilt.  Times, Sunday Times (2009)\\nIt has become a part of the survivor's experience, but only one part of it. Herman, Judith Lewis  Trauma and Recovery (1992)\\nThe British team found no survivors yesterday - only a body in the wreckage of an office building.  The Sun (2011)\\nArriving in disused cellars, you find you are part of a team of eight survivors, on the run from a brutal alien invader.  Times, Sunday Times (2011)\\nA hundred thousand people a month are dying of cold and starvation, and survivors live like shivering, scavenging wolves.  Times, Sunday Times (2012)\\n  \\n \\nWord lists with\\nsurvivor\\n Property law terms\\nQuick word challengeQuiz ReviewQuestion: 1\\n- \\nScore: 0 / 5\\nWhich property law term am I?authority to appoint persons either from a particular class (special power)\\n or selected by the donee of the power (general power)\\n to take an estate or interest in propertypower of appointmentremainderrevertWhich property law term am I?an interest in land less than a freehold, such as a leasechattelchattel realremainderWhich property law term am I?the collecting of property so that it may be redistributed in equal shares, esp on the intestacy of a parent who has given property to a child in his or her lifetimeadvancementestatehotchpotWhich property law term am I?to transmit or transfer (the title to property)\\nconveyestatesurvivorWhich property law term am I?property or possessions; the nature of interest that a person has in land or other property, esp in relation to the right of othersestatehotchpotrevertYour score:  CheckSee the answerNextNext quizReview\"}"
      ]
     },
     "execution_count": 7,
     "metadata": {},
     "output_type": "execute_result"
    }
   ],
   "source": [
    "checkout_word(random.choice(all_words))"
   ]
  },
  {
   "cell_type": "code",
   "execution_count": 18,
   "metadata": {},
   "outputs": [
    {
     "name": "stdout",
     "output_type": "stream",
     "text": [
      "7\n"
     ]
    }
   ],
   "source": [
    "print(len(mydictionary._recall_memory()))"
   ]
  },
  {
   "cell_type": "code",
   "execution_count": 19,
   "metadata": {},
   "outputs": [],
   "source": [
    "mydictionary._solid_memory()"
   ]
  },
  {
   "cell_type": "code",
   "execution_count": null,
   "metadata": {},
   "outputs": [
    {
     "name": "stderr",
     "output_type": "stream",
     "text": [
      "compliment          :  17%|██▌            | 837/4845 [15:58<1:24:16,  1.26s/it]"
     ]
    }
   ],
   "source": [
    "while True:\n",
    "    try:\n",
    "        j = 0\n",
    "        with tqdm.tqdm(all_words) as pbar:\n",
    "            for word in pbar:\n",
    "                j += 1\n",
    "                mydictionary.checkout(word, quiet=True)\n",
    "                pbar.set_description('{:20s}'.format(word))\n",
    "                if j % 10 == 0:\n",
    "                    mydictionary._solid_memory()\n",
    "        mydictionary._solid_memory()\n",
    "    except:\n",
    "        pass"
   ]
  },
  {
   "cell_type": "code",
   "execution_count": null,
   "metadata": {},
   "outputs": [],
   "source": []
  }
 ],
 "metadata": {
  "kernelspec": {
   "display_name": "Python 3",
   "language": "python",
   "name": "python3"
  },
  "language_info": {
   "codemirror_mode": {
    "name": "ipython",
    "version": 3
   },
   "file_extension": ".py",
   "mimetype": "text/x-python",
   "name": "python",
   "nbconvert_exporter": "python",
   "pygments_lexer": "ipython3",
   "version": "3.7.4"
  }
 },
 "nbformat": 4,
 "nbformat_minor": 4
}
