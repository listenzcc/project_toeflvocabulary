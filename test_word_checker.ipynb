{
 "cells": [
  {
   "cell_type": "code",
   "execution_count": 1,
   "metadata": {},
   "outputs": [
    {
     "name": "stdout",
     "output_type": "stream",
     "text": [
      "Loading all_words done. 4845 words found.\n",
      "I remember these words:\n",
      "[('liable',), ('fabric',)]\n"
     ]
    }
   ],
   "source": [
    "import random\n",
    "from word_checker import all_words, mydictionary"
   ]
  },
  {
   "cell_type": "code",
   "execution_count": 2,
   "metadata": {},
   "outputs": [
    {
     "name": "stdout",
     "output_type": "stream",
     "text": [
      "hornet\n",
      "Remembering hornet.\n"
     ]
    },
    {
     "data": {
      "text/plain": [
       "{'meanings': '(hɔːʳnɪt)\\n1.\\xa0countable noun\\nA hornet is a large wasp. Hornets live in nests and have a powerful sting.\\n2.\\xa0  See  a hornet\"s nest',\n",
       " 'examples': 'Example sentences including\\nhornet\\nThese examples have been automatically selected and may contain sensitive content.\\n\\nThe giant hornet is lured into its hive.  Times, Sunday Times (2007)\\n  \\n \\nMore idioms containing\\nhornet\\n mad as a hornet',\n",
       " 'word': 'hornet',\n",
       " 'datestr': 'Fri Nov 22 16:51:21 2019'}"
      ]
     },
     "execution_count": 2,
     "metadata": {},
     "output_type": "execute_result"
    }
   ],
   "source": [
    "mydictionary.checkout(random.choice(all_words))"
   ]
  },
  {
   "cell_type": "code",
   "execution_count": 3,
   "metadata": {},
   "outputs": [
    {
     "name": "stdout",
     "output_type": "stream",
     "text": [
      "['liable', 'fabric', 'hornet']\n"
     ]
    }
   ],
   "source": [
    "mydictionary._recall_memory()"
   ]
  },
  {
   "cell_type": "code",
   "execution_count": 4,
   "metadata": {},
   "outputs": [],
   "source": [
    "mydictionary._solid_memory()"
   ]
  },
  {
   "cell_type": "code",
   "execution_count": 5,
   "metadata": {},
   "outputs": [
    {
     "name": "stdout",
     "output_type": "stream",
     "text": [
      "['liable', 'fabric', 'hornet']\n"
     ]
    }
   ],
   "source": [
    "mydictionary._recall_memory()"
   ]
  },
  {
   "cell_type": "code",
   "execution_count": null,
   "metadata": {},
   "outputs": [],
   "source": []
  }
 ],
 "metadata": {
  "kernelspec": {
   "display_name": "Python 3",
   "language": "python",
   "name": "python3"
  },
  "language_info": {
   "codemirror_mode": {
    "name": "ipython",
    "version": 3
   },
   "file_extension": ".py",
   "mimetype": "text/x-python",
   "name": "python",
   "nbconvert_exporter": "python",
   "pygments_lexer": "ipython3",
   "version": "3.7.4"
  }
 },
 "nbformat": 4,
 "nbformat_minor": 4
}
