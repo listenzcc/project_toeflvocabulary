{
 "cells": [
  {
   "cell_type": "code",
   "execution_count": 1,
   "metadata": {},
   "outputs": [
    {
     "name": "stdout",
     "output_type": "stream",
     "text": [
      "Loading all_words done. 4843 words found.\n",
      "I remember [4843] words.\n",
      "Format are.\n",
      "(0, 'word', 'text', 0, None, 0)\n",
      "(1, 'dictname', 'text', 0, None, 0)\n",
      "(2, 'meanings', 'text', 0, None, 0)\n",
      "(3, 'examples', 'text', 0, None, 0)\n"
     ]
    }
   ],
   "source": [
    "import tqdm\n",
    "import random\n",
    "from word_checker import all_words, mydictionary, checkout_word"
   ]
  },
  {
   "cell_type": "code",
   "execution_count": 3,
   "metadata": {},
   "outputs": [
    {
     "name": "stdout",
     "output_type": "stream",
     "text": [
      "I remember toxic.\n"
     ]
    },
    {
     "data": {
      "text/plain": [
       "{'word': 'toxic',\n",
       " 'dictname': 'dictionary Cob_Adv_Brit',\n",
       " 'meanings': '(tɒksɪk)\\nadjective\\nA toxic substance is poisonous.\\n ...the cost of cleaning up toxic waste.\\n These products are not toxic to humans. [+ to]\\nSynonyms: poisonous, deadly, lethal, harmful \\xa0 More Synonyms of toxic \\ntoxicity (tɒksɪsɪti)\\nWord forms: plural toxicities\\n variable noun ...data on the toxicity of chemicals. [+ of]',\n",
       " 'examples': \"Example sentences including\\ntoxic\\nThese examples have been automatically selected and may contain sensitive content.\\n\\nThere are trials of drugs to cut toxic protein that destroy healthy brain tissue.  The Sun (2016)\\nONE of the City's biggest employers is considering using its stockpile of toxic debt to pay bonuses.  Times, Sunday Times (2016)\\nWhat was proposed was a toxic combination of financial and operational gearing.  Times, Sunday Times (2006)\\nYet we know that what is natural can also be toxic and deadly to man.  Times, Sunday Times (2012)\\nHe had already bet against as many of the toxic loans as he could.  Times, Sunday Times (2010)\\nYet we know that trauma has a complex and highly toxic effect.  Times, Sunday Times (2013)\\nMany of the drugs were toxic and only marginally effective.  The Times Literary Supplement (2012)\\n Toxic chemicals may have been dumped in the nearby countryside.  Times, Sunday Times (2007)\\nThe toxic effect of all four killed her.  The Sun (2010)\\nIt is very difficult to confirm but it was definitely some toxic chemical.  Times, Sunday Times (2015)\\n\\nExperiments with rats showed it had no toxic effects and lowered the blood pressure.  The Sun (2013)\\nMadrid will also ask two independent auditing firms to value the exposure of banks to toxic property assets.  Times, Sunday Times (2012)\\nThese are all affected by nutritional balance as well as by drugs and toxic elements in the environment and diet. Chaitow, Leon  The Beat Fatigue Workbook - how to identify the causes (1988)\\nToxic financial products that were all the rage until 2008 are back.  Times, Sunday Times (2014)\\nIt had planned to insure up to 260 billion of toxic loans.  Times, Sunday Times (2009)\\nBecause the disease behaves a bit like cancer, they reckoned toxic chemo drugs might help.  The Sun (2007)\\nThat dynamic worked out poorly before the financial crisis as rating agencies happily gave their approval to toxic mortgage assets in exchange for very large fees.  Times, Sunday Times (2016)\\nLike a bank crashing under the burden of toxic debt, it's too big to fail.  Times, Sunday Times (2010)\\nAnd it was'a far less toxic and deadly opposition' than it could have been.  Times, Sunday Times (2010)\\nThe move makes clear that profitable companies in Dubai fear being saddled with toxic debts from other government-owned businesses.  Times, Sunday Times (2009)\\nHe said banks can lend more and improve their financial strength by dumping all the toxic loans they have, and possibly raise new capital over time.  Times, Sunday Times (2012)\\nAmerica may have helped to plunge the world into economic darkness by feeding toxic financial assets into the banking systems of Europe and Asia.  Times, Sunday Times (2009)\"}"
      ]
     },
     "execution_count": 3,
     "metadata": {},
     "output_type": "execute_result"
    }
   ],
   "source": [
    "mydictionary.checkout(random.choice(all_words))"
   ]
  },
  {
   "cell_type": "code",
   "execution_count": 4,
   "metadata": {},
   "outputs": [
    {
     "name": "stdout",
     "output_type": "stream",
     "text": [
      "<-- tilt -->\n",
      "<-- https://www.collinsdictionary.com/dictionary/english/tilt -->\n",
      "<-- Available dictionaries: -->\n",
      "<-- dictionary Cob_Adv_Brit -->\n",
      "<-- dictionary Collins_Eng_Dict -->\n",
      "<-- dictionary Large_US_Webster -->\n",
      "<-- Using dictionary Cob_Adv_Brit -->\n"
     ]
    },
    {
     "data": {
      "text/plain": [
       "{'word': 'tilt',\n",
       " 'dictname': 'dictionary Cob_Adv_Brit',\n",
       " 'meanings': \"(tɪlt)\\n1.\\xa0verb\\nIf you tilt an object or if it tilts, it moves into a sloping position with one end or side higher than the other.\\n She tilted the mirror and began to comb her hair. [VERB noun]\\n Leonard tilted his chair back on two legs and stretched his long body. [VERB noun adverb/preposition]\\n The boat instantly tilted, filled and sank. [VERB] [Also V adv/prep]Synonyms: slant, tip, slope, list \\xa0 More Synonyms of tilt\\n2.\\xa0verb\\nIf you tilt part of your body, usually your head, you move it slightly upwards or to one side.\\n Mari tilted her head back so that she could look at him. [VERB noun with adverb]\\n The nurse tilted his head to the side and inspected the wound. [VERB noun preposition]\\n She tilted her face to kiss me quickly on the chin. [VERB noun]\\nSynonyms: angle, tip, lean, incline \\xa0 More Synonyms of tilt  \\n \\nTilt is also a noun.\\n He opened the rear door for me with an apologetic tilt of his head. [+ of]\\n3.\\xa0countable noun [usually singular]\\nThe tilt of something is the fact that it tilts or slopes, or the angle at which it tilts or slopes.\\n ...calculations based on our understanding of the tilt of the Earth's axis. [+ of]\\n ...the abrupt tilt of the hill.\\n The 3-metre-square slabs are on a tilt.\\nSynonyms: slope, angle, inclination, list \\xa0 More Synonyms of tilt\\n4.\\xa0verb\\nIf a person or thing tilts towards a particular opinion or if something tilts them towards it, they change slightly so that they become more in agreement with that opinion or position.\\n When the political climate tilted towards fundamentalism, he was threatened. [VERB preposition/adverb]\\n He continued to urge the Conservative Party to tilt rightwards. [VERB preposition/adverb]\\n The paper has done much to tilt American public opinion in favour of intervention. [VERB noun preposition/adverb]\\n5.\\xa0singular noun\\nIf there is a tilt towards a particular opinion or position, that opinion or position is favoured or begins to be favoured.\\n The chairman criticised the plan for its tilt towards higher taxes rather than lower\\nspending. [+ towards]\\n6.\\xa0countable noun\\nA tilt at something is an attempt to win or obtain it.\\n [journalism] His first tilt at Parliament came in the same year but he failed to win the seat. [+ at]\\n He was determined to use his remaining year with Manchester United for one last tilt\\nat the League title.\\nSynonyms: bid for, crack at \\xa0 More Synonyms of tilt\\n7.\\xa0  See  at full tilt/full tilt\",\n",
       " 'examples': \"Example sentences including\\ntilt\\nThese examples have been automatically selected and may contain sensitive content.\\n\\nShe tilts her head at a mournful angle.  Times, Sunday Times (2013)\\nYour brain is working at full tilt thanks to the sun in your opposite house.  The Sun (2015)\\nBut back she came and then yesterday had one more tilt at crossing the line first.  Times, Sunday Times (2008)\\nThe balance of the air battle seemed to be tilting in favour of the enemy. Max Hastings  Nemesis: The Battle for Japan, 194445 (2007)\\nThe composition of growth is tilting back to advanced from emerging economies.  Times, Sunday Times (2016)\\nThe second row of seats tilt and slide to provide easy access to the third row.  The Sun (2008)\\nThey know when he is training at full tilt and when he is overdoing it.  Times, Sunday Times (2011)\\nShe can strike a pose and tilt her chin.  Times, Sunday Times (2010)\\nHe has told friends that he would like another tilt at the top.  Times, Sunday Times (2015)\\nShe closed her eyes tight and tilted her face towards the sky.  Times, Sunday Times (2010)\\n\\nRemove from the heat and slightly tilt the pan so that the toffee runs to one side.  The Sun (2012)\\nWe were tilting from side to side.  Times, Sunday Times (2013)\\nThe world has tilted on its axis this week.  Times, Sunday Times (2008)\\nThe boat struck the bank full tilt. Kenneth Grahame  The Wind in the Willows (1908)\\nWhere one partner is heavier than the other the whole sleeping surface may be tilted to one side. Lamplugh, Diana & Sterwin, Diana & Nottidge, Pamela  Survive the Nine to Five - a woman&apos;s guide to working well (1989)\\nThe fuselage was tilted at an angle with engine oil leaking on to the three men and the still smoking wreckage.  Times, Sunday Times (2009)\\nMomentum changes games and it had tilted in our favour with a player sent off and us pulling a goal back.  The Sun (2013)\\nThis is just tilting at windmills.  Times, Sunday Times (2010)\\nHe tilted his head towards me. Duncan Hamilton  Provided You Don't Kiss Me: 20 Years with Brian Clough (2007)\\nLet's take a tilt at it anyway.  Times, Sunday Times (2014)\\nI aimed for the ramp in first gear and tried to gauge the angle of tilt.  Times, Sunday Times (2006)\\nDue to the boat 's tilt, a good shove would be necessary for it to clear the deck below.  Times, Sunday Times (2014)\\nAt other stores she could spot no distortion, but many of the mirrors were tilted away from her, also giving a more appealing look.  Times, Sunday Times (2011)\\n  \\n \\nMore idioms containing\\ntilt\\n tilt at windmills\"}"
      ]
     },
     "execution_count": 4,
     "metadata": {},
     "output_type": "execute_result"
    }
   ],
   "source": [
    "word = random.choice(all_words)\n",
    "checkout_word(word)"
   ]
  },
  {
   "cell_type": "code",
   "execution_count": 5,
   "metadata": {},
   "outputs": [
    {
     "name": "stdout",
     "output_type": "stream",
     "text": [
      "4843\n"
     ]
    }
   ],
   "source": [
    "print(len(mydictionary._recall_memory()))"
   ]
  },
  {
   "cell_type": "code",
   "execution_count": 6,
   "metadata": {},
   "outputs": [],
   "source": [
    "mydictionary._solid_memory()"
   ]
  },
  {
   "cell_type": "code",
   "execution_count": 7,
   "metadata": {},
   "outputs": [
    {
     "name": "stderr",
     "output_type": "stream",
     "text": [
      "zone                : 100%|████████████████| 4843/4843 [01:55<00:00, 41.91it/s]\n"
     ]
    }
   ],
   "source": [
    "j = 0\n",
    "with tqdm.tqdm(all_words) as pbar:\n",
    "    for word in pbar:\n",
    "        j += 1\n",
    "        mydictionary.checkout(word, quiet=True)\n",
    "        pbar.set_description('{:20s}'.format(word))\n",
    "        if j % 10 == 0:\n",
    "            mydictionary._solid_memory()\n",
    "mydictionary._solid_memory()"
   ]
  },
  {
   "cell_type": "code",
   "execution_count": null,
   "metadata": {},
   "outputs": [],
   "source": []
  }
 ],
 "metadata": {
  "kernelspec": {
   "display_name": "Python 3",
   "language": "python",
   "name": "python3"
  },
  "language_info": {
   "codemirror_mode": {
    "name": "ipython",
    "version": 3
   },
   "file_extension": ".py",
   "mimetype": "text/x-python",
   "name": "python",
   "nbconvert_exporter": "python",
   "pygments_lexer": "ipython3",
   "version": "3.7.4"
  }
 },
 "nbformat": 4,
 "nbformat_minor": 4
}
