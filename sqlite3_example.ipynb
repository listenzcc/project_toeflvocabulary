{
 "cells": [
  {
   "cell_type": "code",
   "execution_count": 3,
   "metadata": {},
   "outputs": [
    {
     "name": "stdout",
     "output_type": "stream",
     "text": [
      "Loading all_words done. 4845 words found.\n",
      "no such table: mydictionary\n",
      "[]\n"
     ]
    }
   ],
   "source": [
    "import time\n",
    "import sqlite3\n",
    "import random\n",
    "from word_checker import all_words, mydictionary"
   ]
  },
  {
   "cell_type": "code",
   "execution_count": 4,
   "metadata": {},
   "outputs": [
    {
     "name": "stdout",
     "output_type": "stream",
     "text": [
      "acidic\n"
     ]
    }
   ],
   "source": [
    "word = random.choice(all_words)\n",
    "entry = mydictionary.checkout(word)"
   ]
  },
  {
   "cell_type": "code",
   "execution_count": 5,
   "metadata": {},
   "outputs": [
    {
     "name": "stdout",
     "output_type": "stream",
     "text": [
      "table mydictionary already exists\n"
     ]
    }
   ],
   "source": [
    "conn = sqlite3.connect('example.db')\n",
    "c = conn.cursor()\n",
    "\n",
    "# Create table\n",
    "table_name = 'mydictionary'\n",
    "try:\n",
    "    c.execute('''CREATE TABLE {}\n",
    "                 (word text, meanings text, examples text, datestr text)'''.format(table_name))\n",
    "    print('table {} created'.format(table_name))\n",
    "except sqlite3.OperationalError as e:\n",
    "    print(e)\n",
    "\n",
    "conn.commit()"
   ]
  },
  {
   "cell_type": "code",
   "execution_count": 6,
   "metadata": {},
   "outputs": [
    {
     "name": "stdout",
     "output_type": "stream",
     "text": [
      "('mydictionary',)\n"
     ]
    }
   ],
   "source": [
    "table_names = conn.execute(\"SELECT name FROM sqlite_master WHERE type='table';\")\n",
    "for name in table_names:\n",
    "    print(name)"
   ]
  },
  {
   "cell_type": "code",
   "execution_count": 7,
   "metadata": {},
   "outputs": [
    {
     "name": "stdout",
     "output_type": "stream",
     "text": [
      "agility\n"
     ]
    },
    {
     "ename": "AttributeError",
     "evalue": "'NoneType' object has no attribute 'recursiveChildGenerator'",
     "output_type": "error",
     "traceback": [
      "\u001b[1;31m---------------------------------------------------------------------------\u001b[0m",
      "\u001b[1;31mAttributeError\u001b[0m                            Traceback (most recent call last)",
      "\u001b[1;32m<ipython-input-7-1eb850a2e30b>\u001b[0m in \u001b[0;36m<module>\u001b[1;34m\u001b[0m\n\u001b[0;32m      1\u001b[0m \u001b[0mword\u001b[0m \u001b[1;33m=\u001b[0m \u001b[0mrandom\u001b[0m\u001b[1;33m.\u001b[0m\u001b[0mchoice\u001b[0m\u001b[1;33m(\u001b[0m\u001b[0mall_words\u001b[0m\u001b[1;33m)\u001b[0m\u001b[1;33m\u001b[0m\u001b[1;33m\u001b[0m\u001b[0m\n\u001b[1;32m----> 2\u001b[1;33m \u001b[0mentry\u001b[0m \u001b[1;33m=\u001b[0m \u001b[0mmydictionary\u001b[0m\u001b[1;33m.\u001b[0m\u001b[0mcheckout\u001b[0m\u001b[1;33m(\u001b[0m\u001b[0mword\u001b[0m\u001b[1;33m)\u001b[0m\u001b[1;33m\u001b[0m\u001b[1;33m\u001b[0m\u001b[0m\n\u001b[0m\u001b[0;32m      3\u001b[0m \u001b[0mentry\u001b[0m\u001b[1;33m[\u001b[0m\u001b[1;34m'meanings'\u001b[0m\u001b[1;33m]\u001b[0m \u001b[1;33m=\u001b[0m \u001b[1;34m'\\n'\u001b[0m\u001b[1;33m.\u001b[0m\u001b[0mjoin\u001b[0m\u001b[1;33m(\u001b[0m\u001b[0mentry\u001b[0m\u001b[1;33m[\u001b[0m\u001b[1;34m'meanings'\u001b[0m\u001b[1;33m]\u001b[0m\u001b[1;33m)\u001b[0m\u001b[1;33m\u001b[0m\u001b[1;33m\u001b[0m\u001b[0m\n\u001b[0;32m      4\u001b[0m \u001b[0mentry\u001b[0m\u001b[1;33m[\u001b[0m\u001b[1;34m'examples'\u001b[0m\u001b[1;33m]\u001b[0m \u001b[1;33m=\u001b[0m \u001b[1;34m'\\n'\u001b[0m\u001b[1;33m.\u001b[0m\u001b[0mjoin\u001b[0m\u001b[1;33m(\u001b[0m\u001b[0mentry\u001b[0m\u001b[1;33m[\u001b[0m\u001b[1;34m'examples'\u001b[0m\u001b[1;33m]\u001b[0m\u001b[1;33m)\u001b[0m\u001b[1;33m\u001b[0m\u001b[1;33m\u001b[0m\u001b[0m\n\u001b[0;32m      5\u001b[0m \u001b[0mentry\u001b[0m\u001b[1;33m[\u001b[0m\u001b[1;34m'word'\u001b[0m\u001b[1;33m]\u001b[0m \u001b[1;33m=\u001b[0m \u001b[0mword\u001b[0m\u001b[1;33m\u001b[0m\u001b[1;33m\u001b[0m\u001b[0m\n",
      "\u001b[1;32m~\\Documents\\project_toeflvocabulary\\word_checker.py\u001b[0m in \u001b[0;36mcheckout\u001b[1;34m(self, word)\u001b[0m\n\u001b[0;32m     19\u001b[0m             \u001b[0mprint\u001b[0m\u001b[1;33m(\u001b[0m\u001b[1;34m'{} is not a valid word.'\u001b[0m\u001b[1;33m.\u001b[0m\u001b[0mformat\u001b[0m\u001b[1;33m(\u001b[0m\u001b[0mword\u001b[0m\u001b[1;33m)\u001b[0m\u001b[1;33m)\u001b[0m\u001b[1;33m\u001b[0m\u001b[1;33m\u001b[0m\u001b[0m\n\u001b[0;32m     20\u001b[0m             \u001b[1;32mreturn\u001b[0m \u001b[1;34m'{} is not a valid word.'\u001b[0m\u001b[1;33m.\u001b[0m\u001b[0mformat\u001b[0m\u001b[1;33m(\u001b[0m\u001b[0mword\u001b[0m\u001b[1;33m)\u001b[0m\u001b[1;33m\u001b[0m\u001b[1;33m\u001b[0m\u001b[0m\n\u001b[1;32m---> 21\u001b[1;33m         \u001b[0mexplain\u001b[0m \u001b[1;33m=\u001b[0m \u001b[0mcheckout_word\u001b[0m\u001b[1;33m(\u001b[0m\u001b[0mword\u001b[0m\u001b[1;33m)\u001b[0m\u001b[1;33m\u001b[0m\u001b[1;33m\u001b[0m\u001b[0m\n\u001b[0m\u001b[0;32m     22\u001b[0m         \u001b[0mself\u001b[0m\u001b[1;33m.\u001b[0m\u001b[0m_buffer_memory\u001b[0m\u001b[1;33m(\u001b[0m\u001b[0mword\u001b[0m\u001b[1;33m,\u001b[0m \u001b[0mexplain\u001b[0m\u001b[1;33m)\u001b[0m\u001b[1;33m\u001b[0m\u001b[1;33m\u001b[0m\u001b[0m\n\u001b[0;32m     23\u001b[0m         \u001b[1;32mreturn\u001b[0m \u001b[0mexplain\u001b[0m\u001b[1;33m\u001b[0m\u001b[1;33m\u001b[0m\u001b[0m\n",
      "\u001b[1;32m~\\Documents\\project_toeflvocabulary\\word_checker.py\u001b[0m in \u001b[0;36mcheckout_word\u001b[1;34m(word)\u001b[0m\n\u001b[0;32m    109\u001b[0m \u001b[1;33m\u001b[0m\u001b[0m\n\u001b[0;32m    110\u001b[0m     \u001b[1;31m# Output good tags for explain entry\u001b[0m\u001b[1;33m\u001b[0m\u001b[1;33m\u001b[0m\u001b[1;33m\u001b[0m\u001b[0m\n\u001b[1;32m--> 111\u001b[1;33m     \u001b[1;32mfor\u001b[0m \u001b[0mtag\u001b[0m \u001b[1;32min\u001b[0m \u001b[0mexplain\u001b[0m\u001b[1;33m.\u001b[0m\u001b[0mrecursiveChildGenerator\u001b[0m\u001b[1;33m(\u001b[0m\u001b[1;33m)\u001b[0m\u001b[1;33m:\u001b[0m\u001b[1;33m\u001b[0m\u001b[1;33m\u001b[0m\u001b[0m\n\u001b[0m\u001b[0;32m    112\u001b[0m         \u001b[1;32mif\u001b[0m \u001b[0mgoodtag\u001b[0m\u001b[1;33m(\u001b[0m\u001b[0mtag\u001b[0m\u001b[1;33m)\u001b[0m\u001b[1;33m:\u001b[0m\u001b[1;33m\u001b[0m\u001b[1;33m\u001b[0m\u001b[0m\n\u001b[0;32m    113\u001b[0m             \u001b[0moutput\u001b[0m\u001b[1;33m[\u001b[0m\u001b[1;34m'meanings'\u001b[0m\u001b[1;33m]\u001b[0m\u001b[1;33m.\u001b[0m\u001b[0mappend\u001b[0m\u001b[1;33m(\u001b[0m\u001b[0mshrink\u001b[0m\u001b[1;33m(\u001b[0m\u001b[0mtag\u001b[0m\u001b[1;33m.\u001b[0m\u001b[0mget_text\u001b[0m\u001b[1;33m(\u001b[0m\u001b[1;33m)\u001b[0m\u001b[1;33m)\u001b[0m\u001b[1;33m)\u001b[0m\u001b[1;33m\u001b[0m\u001b[1;33m\u001b[0m\u001b[0m\n",
      "\u001b[1;31mAttributeError\u001b[0m: 'NoneType' object has no attribute 'recursiveChildGenerator'"
     ]
    }
   ],
   "source": [
    "word = random.choice(all_words)\n",
    "entry = mydictionary.checkout(word)\n",
    "# entry['meanings'] = '\\n'.join(entry['meanings'])\n",
    "# entry['examples'] = '\\n'.join(entry['examples'])\n",
    "entry['word'] = word\n",
    "entry['datestr'] = time.ctime()\n",
    "\n",
    "# Insert a row of data\n",
    "c.execute(\"INSERT INTO mydictionary VALUES ('{word}', '{meanings}', '{examples}', '{datestr}')\".format(**entry))\n",
    "\n",
    "# Save (commit) the changes\n",
    "# conn.commit()"
   ]
  },
  {
   "cell_type": "code",
   "execution_count": 8,
   "metadata": {},
   "outputs": [
    {
     "name": "stdout",
     "output_type": "stream",
     "text": [
      "['fragrance', 'bark']\n"
     ]
    }
   ],
   "source": [
    "c.execute(\"Select word FROM mydictionary\")\n",
    "f = c.fetchall()\n",
    "print([e[0] for e in f])"
   ]
  },
  {
   "cell_type": "code",
   "execution_count": 21,
   "metadata": {},
   "outputs": [
    {
     "data": {
      "text/plain": [
       "('bark',\n",
       " '(bɑːʳk)\\n1.\\xa0verb\\nWhen a dog barks, it makes a short, loud noise, once or several times.\\n Don\"t let the dogs bark. [VERB]\\n A small dog barked at a seagull he was chasing. [VERB + at]\\nSynonyms: yap, bay, howl, snarl \\xa0 More Synonyms of bark \\nBark is also a noun.\\n The Doberman let out a string of roaring barks.\\n2.\\xa0verb\\nIf you bark at someone, you shout at them aggressively in a loud, rough voice.\\n I didn\"t mean to bark at you. [VERB + at]\\n A policeman held his gun in both hands and barked an order. [VERB noun] [Also VERB with quote]Synonyms: shout, snap, yell, snarl \\xa0 More Synonyms of bark\\n3.\\xa0uncountable noun\\nBark is the tough material that covers the outside of a tree.\\n4.\\xa0  See  someone\"s bark is worse than their bite\\n5.\\xa0 to be barking up the wrong tree')"
      ]
     },
     "execution_count": 21,
     "metadata": {},
     "output_type": "execute_result"
    }
   ],
   "source": [
    "c.execute(\"Select * FROM mydictionary WHERE WORD LIKE 'bark'\")\n",
    "x = c.fetchone()\n",
    "x[0], x[1]"
   ]
  },
  {
   "cell_type": "code",
   "execution_count": null,
   "metadata": {},
   "outputs": [],
   "source": [
    "# conn.close()"
   ]
  },
  {
   "cell_type": "code",
   "execution_count": null,
   "metadata": {},
   "outputs": [],
   "source": [
    "try:\n",
    "    fadsfwef\n",
    "except Exception as error:\n",
    "    print(error)"
   ]
  },
  {
   "cell_type": "code",
   "execution_count": 1,
   "metadata": {},
   "outputs": [
    {
     "ename": "NameError",
     "evalue": "name 'conn' is not defined",
     "output_type": "error",
     "traceback": [
      "\u001b[1;31m---------------------------------------------------------------------------\u001b[0m",
      "\u001b[1;31mNameError\u001b[0m                                 Traceback (most recent call last)",
      "\u001b[1;32m<ipython-input-1-8dd0cd799055>\u001b[0m in \u001b[0;36m<module>\u001b[1;34m\u001b[0m\n\u001b[1;32m----> 1\u001b[1;33m \u001b[0mconn\u001b[0m\u001b[1;33m.\u001b[0m\u001b[0mclose\u001b[0m\u001b[1;33m(\u001b[0m\u001b[1;33m)\u001b[0m\u001b[1;33m\u001b[0m\u001b[1;33m\u001b[0m\u001b[0m\n\u001b[0m",
      "\u001b[1;31mNameError\u001b[0m: name 'conn' is not defined"
     ]
    }
   ],
   "source": [
    "conn.close()"
   ]
  },
  {
   "cell_type": "code",
   "execution_count": 22,
   "metadata": {},
   "outputs": [
    {
     "data": {
      "text/plain": [
       "{'word': 'bark',\n",
       " 'meanings': '(bɑːʳk)\\n1.\\xa0verb\\nWhen a dog barks, it makes a short, loud noise, once or several times.\\n Don\"t let the dogs bark. [VERB]\\n A small dog barked at a seagull he was chasing. [VERB + at]\\nSynonyms: yap, bay, howl, snarl \\xa0 More Synonyms of bark \\nBark is also a noun.\\n The Doberman let out a string of roaring barks.\\n2.\\xa0verb\\nIf you bark at someone, you shout at them aggressively in a loud, rough voice.\\n I didn\"t mean to bark at you. [VERB + at]\\n A policeman held his gun in both hands and barked an order. [VERB noun] [Also VERB with quote]Synonyms: shout, snap, yell, snarl \\xa0 More Synonyms of bark\\n3.\\xa0uncountable noun\\nBark is the tough material that covers the outside of a tree.\\n4.\\xa0  See  someone\"s bark is worse than their bite\\n5.\\xa0 to be barking up the wrong tree',\n",
       " 'examples': 'Example sentences including\\nbark\\nThese examples have been automatically selected and may contain sensitive content.\\n\\nAlong the way a dog barks, a red car overtakes and the bus slows down to allow lambs to cross the road.  Times, Sunday Times (2016)\\nPipe long, thick lines along the cake, covering the cake completely so it looks like the bark of a tree.  The Sun (2016)\\nA source said:\"Two drones were buzzing the place and not one dog barked.  The Sun (2016)\\nTime to discover the benefits of willow bark.  The Sun (2013)\\nYesterday he was all bark and no bite.  Times, Sunday Times (2011)\\nThe bark of trees is often helpful in identifying them in winter.  Times, Sunday Times (2015)\\nWhy buy a dog and bark yourself?  Times, Sunday Times (2008)\\nIt will sprout new leaves from the bark.  Times, Sunday Times (2014)\\nThis is not a car that shouts or barks or growls.  Times, Sunday Times (2012)\\nShe barks loudly when a stranger comes near.  Times, Sunday Times (2015)\\n\\nThe underdogs had barked long and loud.  Times, Sunday Times (2015)\\nMost kinds of bark become rougher with age. Robertson, Bruce  Learn to Draw Countryside (1996)\\nNow it is adding a bite to its bark.  Times, Sunday Times (2008)\\nLet that be the last tree she barks up.  The Sun (2010)\\nSomewhere nearby a guard dog barked and then another one. Len Deighton  BomberHis bark is both loud and sustained.  Times, Sunday Times (2009)\\nBut some rabid dogs did not bark or bite in this election season.  Times, Sunday Times (2012)\\nSo far it seems to be the watchdog that barks loudly but has absolutely no inclination to bite.  Times, Sunday Times (2015)\\nThe male pads about, calling to females with gruff barks.  Times, Sunday Times (2007)\\nCover with leaves or bark in cold districts, to protect in winter. Bloom, Adrian  Winter Garden Glory (1993)\\nEspecially as my skin is usually a bit like real-life bark?  Times, Sunday Times (2016)\\nA deeper bark joins the noise and the captain shakes his head.  Times, Sunday Times (2007)\\nI did not want to shout and bark.  Times, Sunday Times (2012)\\n  \\n \\nMore idioms containing\\nbark\\n someone\"s bark is worse than their bite\\n bark up the wrong tree',\n",
       " 'datestr': 'Fri Nov 22 16:00:23 2019'}"
      ]
     },
     "execution_count": 22,
     "metadata": {},
     "output_type": "execute_result"
    }
   ],
   "source": [
    "dict(word=x[0], meanings=x[1], examples=x[2], datestr=x[3])"
   ]
  },
  {
   "cell_type": "code",
   "execution_count": null,
   "metadata": {},
   "outputs": [],
   "source": []
  }
 ],
 "metadata": {
  "kernelspec": {
   "display_name": "Python 3",
   "language": "python",
   "name": "python3"
  },
  "language_info": {
   "codemirror_mode": {
    "name": "ipython",
    "version": 3
   },
   "file_extension": ".py",
   "mimetype": "text/x-python",
   "name": "python",
   "nbconvert_exporter": "python",
   "pygments_lexer": "ipython3",
   "version": "3.7.4"
  }
 },
 "nbformat": 4,
 "nbformat_minor": 4
}
