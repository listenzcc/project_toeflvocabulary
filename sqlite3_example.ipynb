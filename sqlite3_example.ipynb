{
 "cells": [
  {
   "cell_type": "code",
   "execution_count": 1,
   "metadata": {},
   "outputs": [
    {
     "name": "stdout",
     "output_type": "stream",
     "text": [
      "Loading all_words done. 4845 words found.\n"
     ]
    }
   ],
   "source": [
    "import time\n",
    "import sqlite3\n",
    "import random\n",
    "from word_checker import all_words, mydictionary"
   ]
  },
  {
   "cell_type": "code",
   "execution_count": 2,
   "metadata": {},
   "outputs": [
    {
     "name": "stdout",
     "output_type": "stream",
     "text": [
      "aquarium\n"
     ]
    }
   ],
   "source": [
    "word = random.choice(all_words)\n",
    "entry = mydictionary.checkout(word)"
   ]
  },
  {
   "cell_type": "code",
   "execution_count": 24,
   "metadata": {},
   "outputs": [
    {
     "name": "stdout",
     "output_type": "stream",
     "text": [
      "table mydictionary already exists\n"
     ]
    }
   ],
   "source": [
    "conn = sqlite3.connect('example.db')\n",
    "c = conn.cursor()\n",
    "\n",
    "# Create table\n",
    "table_name = 'mydictionary'\n",
    "try:\n",
    "    c.execute('''CREATE TABLE {}\n",
    "                 (word text, meanings text, examples text, datestr text)'''.format(table_name))\n",
    "    print('table {} created'.format(table_name))\n",
    "except sqlite3.OperationalError as e:\n",
    "    print(e)\n",
    "\n",
    "conn.commit()"
   ]
  },
  {
   "cell_type": "code",
   "execution_count": 25,
   "metadata": {},
   "outputs": [
    {
     "name": "stdout",
     "output_type": "stream",
     "text": [
      "('mydictionary',)\n"
     ]
    }
   ],
   "source": [
    "table_names = conn.execute(\"SELECT name FROM sqlite_master WHERE type='table';\")\n",
    "for name in table_names:\n",
    "    print(name)"
   ]
  },
  {
   "cell_type": "code",
   "execution_count": 26,
   "metadata": {},
   "outputs": [
    {
     "name": "stdout",
     "output_type": "stream",
     "text": [
      "livestock\n"
     ]
    }
   ],
   "source": [
    "word = random.choice(all_words)\n",
    "entry = mydictionary.checkout(word)\n",
    "entry['meanings'] = '\\n'.join(entry['meanings'])\n",
    "entry['examples'] = '\\n'.join(entry['examples'])\n",
    "entry['word'] = word\n",
    "entry['datestr'] = time.ctime()\n",
    "\n",
    "# Insert a row of data\n",
    "c.execute(\"INSERT INTO mydictionary VALUES ('{word}', '{meanings}', '{examples}', '{datestr}')\".format(**entry))\n",
    "\n",
    "# Save (commit) the changes\n",
    "conn.commit()"
   ]
  },
  {
   "cell_type": "code",
   "execution_count": 29,
   "metadata": {},
   "outputs": [
    {
     "data": {
      "text/plain": [
       "[]"
      ]
     },
     "execution_count": 29,
     "metadata": {},
     "output_type": "execute_result"
    }
   ],
   "source": [
    "c.execute(\"Select * FROM mydictionary WHERE WORD LIKE '*'\")\n",
    "c.fetchall()"
   ]
  },
  {
   "cell_type": "code",
   "execution_count": 30,
   "metadata": {},
   "outputs": [],
   "source": [
    "# conn.close()"
   ]
  },
  {
   "cell_type": "code",
   "execution_count": null,
   "metadata": {},
   "outputs": [],
   "source": []
  }
 ],
 "metadata": {
  "kernelspec": {
   "display_name": "Python 3",
   "language": "python",
   "name": "python3"
  },
  "language_info": {
   "codemirror_mode": {
    "name": "ipython",
    "version": 3
   },
   "file_extension": ".py",
   "mimetype": "text/x-python",
   "name": "python",
   "nbconvert_exporter": "python",
   "pygments_lexer": "ipython3",
   "version": "3.7.4"
  }
 },
 "nbformat": 4,
 "nbformat_minor": 4
}
