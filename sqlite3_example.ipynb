{
 "cells": [
  {
   "cell_type": "code",
   "execution_count": 7,
   "metadata": {},
   "outputs": [],
   "source": [
    "import sqlite3\n",
    "import time"
   ]
  },
  {
   "cell_type": "code",
   "execution_count": 8,
   "metadata": {},
   "outputs": [],
   "source": [
    "conn = sqlite3.connect('example.db')\n",
    "c = conn.cursor()"
   ]
  },
  {
   "cell_type": "code",
   "execution_count": 9,
   "metadata": {},
   "outputs": [
    {
     "name": "stdout",
     "output_type": "stream",
     "text": [
      "table example already exists\n"
     ]
    }
   ],
   "source": [
    "# Create table\n",
    "try:\n",
    "    c.execute('''CREATE TABLE example\n",
    "                 (a text, b text, c text)''')\n",
    "except sqlite3.OperationalError as e:\n",
    "    print(e)\n",
    "\n",
    "conn.commit()"
   ]
  },
  {
   "cell_type": "code",
   "execution_count": 31,
   "metadata": {},
   "outputs": [
    {
     "name": "stdout",
     "output_type": "stream",
     "text": [
      "('example',)\n"
     ]
    },
    {
     "data": {
      "text/plain": [
       "[(0, 'a', 'text', 0, None, 0),\n",
       " (1, 'b', 'text', 0, None, 0),\n",
       " (2, 'c', 'text', 0, None, 0)]"
      ]
     },
     "execution_count": 31,
     "metadata": {},
     "output_type": "execute_result"
    }
   ],
   "source": [
    "table_names = conn.execute(\"SELECT name FROM sqlite_master WHERE type='table';\")\n",
    "for name in table_names:\n",
    "    print(name)\n",
    "    \n",
    "c.execute(\"PRAGMA table_info(example)\")\n",
    "c.fetchall()"
   ]
  },
  {
   "cell_type": "code",
   "execution_count": 24,
   "metadata": {},
   "outputs": [
    {
     "name": "stdout",
     "output_type": "stream",
     "text": [
      "{'a': 'a', 'b': 'b', 'c': 'Fri Nov 22 23:36:53 2019'}\n"
     ]
    }
   ],
   "source": [
    "entry = dict(a='a', b='b', c=time.ctime())\n",
    "print(entry)\n",
    "# c.execute(\"INSERT INTO example VALUES ('{a}', '{b}', '{c}')\".format(**entry))\n",
    "c.execute(\"INSERT INTO example(a, b, c) VALUES(?, ?, ?)\", ('\\'a\\'a', '_b', time.ctime()))\n",
    "conn.commit()"
   ]
  },
  {
   "cell_type": "code",
   "execution_count": 32,
   "metadata": {},
   "outputs": [
    {
     "data": {
      "text/plain": [
       "[('a', 'b', 'Fri Nov 22 23:29:13 2019'),\n",
       " ('a', 'b', 'Fri Nov 22 23:29:17 2019'),\n",
       " ('a', 'b', 'Fri Nov 22 23:29:21 2019'),\n",
       " ('a', 'b', 'Fri Nov 22 23:29:48 2019'),\n",
       " ('a', 'b', 'Fri Nov 22 23:30:12 2019'),\n",
       " ('a', 'b', 'Fri Nov 22 23:30:23 2019'),\n",
       " ('a', 'b', 'Fri Nov 22 23:31:26 2019'),\n",
       " ('a', 'b', 'Fri Nov 22 23:31:50 2019'),\n",
       " ('a', 'b', 'Fri Nov 22 23:32:37 2019'),\n",
       " ('a', '_b', 'Fri Nov 22 23:35:01 2019'),\n",
       " ('a', '_b', 'Fri Nov 22 23:35:10 2019'),\n",
       " (\"'a'a\", '_b', 'Fri Nov 22 23:35:21 2019'),\n",
       " (\"'a'a\", '_b', 'Fri Nov 22 23:36:53 2019')]"
      ]
     },
     "execution_count": 32,
     "metadata": {},
     "output_type": "execute_result"
    }
   ],
   "source": [
    "c.execute(\"Select * FROM example\")\n",
    "c.fetchall()"
   ]
  },
  {
   "cell_type": "code",
   "execution_count": 36,
   "metadata": {},
   "outputs": [
    {
     "data": {
      "text/plain": [
       "[('a', 'b', 'Fri Nov 22 23:29:13 2019'),\n",
       " ('a', 'b', 'Fri Nov 22 23:29:17 2019'),\n",
       " ('a', 'b', 'Fri Nov 22 23:29:21 2019'),\n",
       " ('a', 'b', 'Fri Nov 22 23:29:48 2019'),\n",
       " ('a', 'b', 'Fri Nov 22 23:30:12 2019'),\n",
       " ('a', 'b', 'Fri Nov 22 23:30:23 2019'),\n",
       " ('a', 'b', 'Fri Nov 22 23:31:26 2019'),\n",
       " ('a', 'b', 'Fri Nov 22 23:31:50 2019'),\n",
       " ('a', 'b', 'Fri Nov 22 23:32:37 2019'),\n",
       " ('a', '_b', 'Fri Nov 22 23:35:01 2019'),\n",
       " ('a', '_b', 'Fri Nov 22 23:35:10 2019')]"
      ]
     },
     "execution_count": 36,
     "metadata": {},
     "output_type": "execute_result"
    }
   ],
   "source": [
    "c.execute(\"Select * FROM example WHERE a LIKE 'a'\")\n",
    "c.fetchall()"
   ]
  },
  {
   "cell_type": "code",
   "execution_count": null,
   "metadata": {},
   "outputs": [],
   "source": []
  }
 ],
 "metadata": {
  "kernelspec": {
   "display_name": "Python 3",
   "language": "python",
   "name": "python3"
  },
  "language_info": {
   "codemirror_mode": {
    "name": "ipython",
    "version": 3
   },
   "file_extension": ".py",
   "mimetype": "text/x-python",
   "name": "python",
   "nbconvert_exporter": "python",
   "pygments_lexer": "ipython3",
   "version": "3.7.4"
  }
 },
 "nbformat": 4,
 "nbformat_minor": 4
}
